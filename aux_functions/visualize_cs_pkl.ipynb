{
 "cells": [
  {
   "cell_type": "code",
   "execution_count": 1,
   "metadata": {},
   "outputs": [],
   "source": [
    "import os\n",
    "import pickle\n",
    "import logging\n",
    "import numpy as np\n",
    "import torch\n",
    "from cryodrgn import lie_tools\n",
    "import random"
   ]
  },
  {
   "cell_type": "code",
   "execution_count": null,
   "metadata": {},
   "outputs": [],
   "source": [
    "workdir = '/hpc/home/ds672/master/aux_functions/'\n",
    "my_poses_pkl_cryodrgn = 'mine_poses_cryodrgn_input.pkl' #Generada con funcion de cryoDRGN\n",
    "my_modify_poses = 'mine_cryosparc_P59_J9_004_particles_20_pixels_variation.pkl' #Generada modificando las poses originales (.cs) y cambiandoles el nombre\n",
    "\n",
    "with open('')"
   ]
  }
 ],
 "metadata": {
  "kernelspec": {
   "display_name": "cryodrgn",
   "language": "python",
   "name": "python3"
  },
  "language_info": {
   "codemirror_mode": {
    "name": "ipython",
    "version": 3
   },
   "file_extension": ".py",
   "mimetype": "text/x-python",
   "name": "python",
   "nbconvert_exporter": "python",
   "pygments_lexer": "ipython3",
   "version": "3.9.18"
  }
 },
 "nbformat": 4,
 "nbformat_minor": 2
}
