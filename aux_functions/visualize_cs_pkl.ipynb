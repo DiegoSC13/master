{
 "cells": [
  {
   "cell_type": "code",
   "execution_count": 1,
   "metadata": {},
   "outputs": [],
   "source": [
    "import os\n",
    "import pickle\n",
    "import logging\n",
    "import numpy as np\n",
    "import torch\n",
    "from cryodrgn import lie_tools\n",
    "import random"
   ]
  },
  {
   "cell_type": "code",
   "execution_count": 12,
   "metadata": {},
   "outputs": [],
   "source": [
    "workdir = '/hpc/home/ds672/master/aux_functions/'\n",
    "my_orig_poses_pkl = 'pkl_files/mine_cryosparc_P59_J9_004_particles.pkl'\n",
    "my_modify_poses_pkl = 'pkl_files/mine_cryosparc_P59_J9_004_particles_20_pixels_variation.pkl' #Generada modificando las poses originales (.cs) y cambiandoles el nombre\n",
    "\n"
   ]
  },
  {
   "cell_type": "code",
   "execution_count": 24,
   "metadata": {},
   "outputs": [
    {
     "name": "stdout",
     "output_type": "stream",
     "text": [
      "[[  2.95   9.85]\n",
      " [-15.25  -3.15]\n",
      " [-15.65  -7.75]\n",
      " ...\n",
      " [-31.55   0.65]\n",
      " [ 12.55   0.25]\n",
      " [  1.75 -13.45]]\n"
     ]
    }
   ],
   "source": [
    "with open(my_orig_poses_pkl, 'rb') as file:\n",
    "    data = pickle.load(file)[1]\n",
    "\n",
    "print(data)"
   ]
  },
  {
   "cell_type": "code",
   "execution_count": 25,
   "metadata": {},
   "outputs": [
    {
     "name": "stdout",
     "output_type": "stream",
     "text": [
      "[[-0.00953125 -0.02234375]\n",
      " [-0.10078125  0.00890625]\n",
      " [-0.03015625 -0.06171875]\n",
      " ...\n",
      " [-0.07359375  0.03640625]\n",
      " [-0.00453125 -0.02109375]\n",
      " [-0.01640625 -0.08265625]]\n"
     ]
    }
   ],
   "source": [
    "with open(my_modify_poses_pkl, 'rb') as file:\n",
    "    data = pickle.load(file)[1]\n",
    "\n",
    "print(data)"
   ]
  },
  {
   "cell_type": "code",
   "execution_count": 28,
   "metadata": {},
   "outputs": [
    {
     "name": "stdout",
     "output_type": "stream",
     "text": [
      "[[ 0.00859375  0.02453125]\n",
      " [-0.06484375  0.00484375]\n",
      " [-0.05453125 -0.00984375]\n",
      " ...\n",
      " [-0.09328125 -0.00984375]\n",
      " [ 0.03515625 -0.00265625]\n",
      " [-0.00515625 -0.04515625]]\n"
     ]
    }
   ],
   "source": [
    "aes = 'cryosparc_P4_J33_004_particles_0rot_0trans_drgn.pkl'\n",
    "\n",
    "with open(aes, 'rb') as file:\n",
    "    data = pickle.load(file)[1]\n",
    "\n",
    "print(data)"
   ]
  },
  {
   "cell_type": "code",
   "execution_count": 29,
   "metadata": {},
   "outputs": [
    {
     "name": "stdout",
     "output_type": "stream",
     "text": [
      "[[ 0.02109375  0.03078125]\n",
      " [-0.03359375 -0.02328125]\n",
      " [-0.04515625  0.01828125]\n",
      " ...\n",
      " [-0.12453125  0.02140625]\n",
      " [ 0.01640625 -0.02453125]\n",
      " [ 0.00109375 -0.01703125]]\n"
     ]
    }
   ],
   "source": [
    "aes = 'cryosparc_P4_J33_004_particles_0rot_10trans_drgn.pkl'\n",
    "\n",
    "with open(aes, 'rb') as file:\n",
    "    data = pickle.load(file)[1]\n",
    "\n",
    "print(data)"
   ]
  },
  {
   "cell_type": "code",
   "execution_count": 30,
   "metadata": {},
   "outputs": [
    {
     "name": "stdout",
     "output_type": "stream",
     "text": [
      "[[  2.75   7.85]\n",
      " [-20.75   1.55]\n",
      " [-17.45  -3.15]\n",
      " ...\n",
      " [-29.85  -3.15]\n",
      " [ 11.25  -0.85]\n",
      " [ -1.65 -14.45]]\n"
     ]
    }
   ],
   "source": [
    "aes = 'cryosparc_P4_J33_004_particles.pkl'\n",
    "\n",
    "with open(aes, 'rb') as file:\n",
    "    data = pickle.load(file)[1]\n",
    "\n",
    "print(data)"
   ]
  },
  {
   "cell_type": "code",
   "execution_count": 36,
   "metadata": {},
   "outputs": [
    {
     "name": "stdout",
     "output_type": "stream",
     "text": [
      "[[  6.75         9.8499999 ]\n",
      " [-10.75        -7.45000005]\n",
      " [-14.45000076   5.8499999 ]\n",
      " ...\n",
      " [-39.85000038   6.8499999 ]\n",
      " [  5.25        -7.85000002]\n",
      " [  0.35000002  -5.44999981]]\n"
     ]
    }
   ],
   "source": [
    "aes = 'cryosparc_P4_J33_004_particles_0rot_10trans.pkl'\n",
    "\n",
    "with open(aes, 'rb') as file:\n",
    "    data = pickle.load(file)[1]\n",
    "\n",
    "print(data)"
   ]
  },
  {
   "cell_type": "code",
   "execution_count": 35,
   "metadata": {},
   "outputs": [
    {
     "name": "stdout",
     "output_type": "stream",
     "text": [
      "[[ 16.75   5.85]\n",
      " [-44.75  -2.45]\n",
      " [-49.45   4.85]\n",
      " ...\n",
      " [ 18.15 -15.15]\n",
      " [-12.75  35.15]\n",
      " [-50.65  10.55]]\n"
     ]
    }
   ],
   "source": [
    "aes = 'cryosparc_P4_J33_004_particles_50_pixels_variation.pkl'\n",
    "\n",
    "with open(aes, 'rb') as file:\n",
    "    data = pickle.load(file)[1]\n",
    "\n",
    "print(data)"
   ]
  },
  {
   "cell_type": "code",
   "execution_count": null,
   "metadata": {},
   "outputs": [],
   "source": []
  }
 ],
 "metadata": {
  "kernelspec": {
   "display_name": "cryodrgn",
   "language": "python",
   "name": "python3"
  },
  "language_info": {
   "codemirror_mode": {
    "name": "ipython",
    "version": 3
   },
   "file_extension": ".py",
   "mimetype": "text/x-python",
   "name": "python",
   "nbconvert_exporter": "python",
   "pygments_lexer": "ipython3",
   "version": "3.9.18"
  }
 },
 "nbformat": 4,
 "nbformat_minor": 2
}
