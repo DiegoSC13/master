{
 "cells": [
  {
   "cell_type": "code",
   "execution_count": 1,
   "metadata": {},
   "outputs": [],
   "source": [
    "import os\n",
    "import pickle\n",
    "import logging\n",
    "import numpy as np\n",
    "import torch\n",
    "from cryodrgn import lie_tools\n",
    "import random"
   ]
  },
  {
   "cell_type": "code",
   "execution_count": 12,
   "metadata": {},
   "outputs": [],
   "source": [
    "workdir = '/hpc/home/ds672/master/aux_functions/'\n",
    "my_orig_poses_pkl = 'pkl_files/mine_cryosparc_P59_J9_004_particles.pkl'\n",
    "my_modify_poses_pkl = 'pkl_files/mine_cryosparc_P59_J9_004_particles_20_pixels_variation.pkl' #Generada modificando las poses originales (.cs) y cambiandoles el nombre\n",
    "\n"
   ]
  },
  {
   "cell_type": "code",
   "execution_count": 24,
   "metadata": {},
   "outputs": [
    {
     "name": "stdout",
     "output_type": "stream",
     "text": [
      "[[  2.95   9.85]\n",
      " [-15.25  -3.15]\n",
      " [-15.65  -7.75]\n",
      " ...\n",
      " [-31.55   0.65]\n",
      " [ 12.55   0.25]\n",
      " [  1.75 -13.45]]\n"
     ]
    }
   ],
   "source": [
    "with open(my_orig_poses_pkl, 'rb') as file:\n",
    "    data = pickle.load(file)[1]\n",
    "\n",
    "print(data)"
   ]
  },
  {
   "cell_type": "code",
   "execution_count": 25,
   "metadata": {},
   "outputs": [
    {
     "name": "stdout",
     "output_type": "stream",
     "text": [
      "[[-0.00953125 -0.02234375]\n",
      " [-0.10078125  0.00890625]\n",
      " [-0.03015625 -0.06171875]\n",
      " ...\n",
      " [-0.07359375  0.03640625]\n",
      " [-0.00453125 -0.02109375]\n",
      " [-0.01640625 -0.08265625]]\n"
     ]
    }
   ],
   "source": [
    "with open(my_modify_poses_pkl, 'rb') as file:\n",
    "    data = pickle.load(file)[1]\n",
    "\n",
    "print(data)"
   ]
  },
  {
   "cell_type": "code",
   "execution_count": 28,
   "metadata": {},
   "outputs": [
    {
     "name": "stdout",
     "output_type": "stream",
     "text": [
      "[[ 0.00859375  0.02453125]\n",
      " [-0.06484375  0.00484375]\n",
      " [-0.05453125 -0.00984375]\n",
      " ...\n",
      " [-0.09328125 -0.00984375]\n",
      " [ 0.03515625 -0.00265625]\n",
      " [-0.00515625 -0.04515625]]\n"
     ]
    }
   ],
   "source": [
    "aes = 'cryosparc_P4_J33_004_particles_0rot_0trans_drgn.pkl'\n",
    "\n",
    "with open(aes, 'rb') as file:\n",
    "    data = pickle.load(file)[1]\n",
    "\n",
    "print(data)"
   ]
  },
  {
   "cell_type": "code",
   "execution_count": 29,
   "metadata": {},
   "outputs": [
    {
     "name": "stdout",
     "output_type": "stream",
     "text": [
      "[[ 0.02109375  0.03078125]\n",
      " [-0.03359375 -0.02328125]\n",
      " [-0.04515625  0.01828125]\n",
      " ...\n",
      " [-0.12453125  0.02140625]\n",
      " [ 0.01640625 -0.02453125]\n",
      " [ 0.00109375 -0.01703125]]\n"
     ]
    }
   ],
   "source": [
    "aes = 'cryosparc_P4_J33_004_particles_0rot_10trans_drgn.pkl'\n",
    "\n",
    "with open(aes, 'rb') as file:\n",
    "    data = pickle.load(file)[1]\n",
    "\n",
    "print(data)"
   ]
  },
  {
   "cell_type": "code",
   "execution_count": 30,
   "metadata": {},
   "outputs": [
    {
     "name": "stdout",
     "output_type": "stream",
     "text": [
      "[[  2.75   7.85]\n",
      " [-20.75   1.55]\n",
      " [-17.45  -3.15]\n",
      " ...\n",
      " [-29.85  -3.15]\n",
      " [ 11.25  -0.85]\n",
      " [ -1.65 -14.45]]\n"
     ]
    }
   ],
   "source": [
    "aes = 'cryosparc_P4_J33_004_particles.pkl'\n",
    "\n",
    "with open(aes, 'rb') as file:\n",
    "    data = pickle.load(file)[1]\n",
    "\n",
    "print(data)"
   ]
  },
  {
   "cell_type": "code",
   "execution_count": 36,
   "metadata": {},
   "outputs": [
    {
     "name": "stdout",
     "output_type": "stream",
     "text": [
      "[[  6.75         9.8499999 ]\n",
      " [-10.75        -7.45000005]\n",
      " [-14.45000076   5.8499999 ]\n",
      " ...\n",
      " [-39.85000038   6.8499999 ]\n",
      " [  5.25        -7.85000002]\n",
      " [  0.35000002  -5.44999981]]\n"
     ]
    }
   ],
   "source": [
    "aes = 'cryosparc_P4_J33_004_particles_0rot_10trans.pkl'\n",
    "\n",
    "with open(aes, 'rb') as file:\n",
    "    data = pickle.load(file)[1]\n",
    "\n",
    "print(data)"
   ]
  },
  {
   "cell_type": "code",
   "execution_count": 35,
   "metadata": {},
   "outputs": [
    {
     "name": "stdout",
     "output_type": "stream",
     "text": [
      "[[ 16.75   5.85]\n",
      " [-44.75  -2.45]\n",
      " [-49.45   4.85]\n",
      " ...\n",
      " [ 18.15 -15.15]\n",
      " [-12.75  35.15]\n",
      " [-50.65  10.55]]\n"
     ]
    }
   ],
   "source": [
    "aes = 'cryosparc_P4_J33_004_particles_50_pixels_variation.pkl'\n",
    "\n",
    "with open(aes, 'rb') as file:\n",
    "    data = pickle.load(file)[1]\n",
    "\n",
    "print(data)"
   ]
  },
  {
   "cell_type": "code",
   "execution_count": 1,
   "metadata": {},
   "outputs": [],
   "source": [
    "workdir = '/nfs/bartesaghilab2/ds672/empiar10076'\n",
    "dir1 = '2023_10_30_output_tutorial_downsampling_256_z_8'\n",
    "dir2 = '2023_11_16_output_tutorial_downsampling_256_z_8_myposes_iteration2_filtered_refinament'"
   ]
  },
  {
   "cell_type": "code",
   "execution_count": 7,
   "metadata": {},
   "outputs": [],
   "source": [
    "import os\n",
    "import pickle\n",
    "\n",
    "path1 = os.path.join(workdir,dir1)\n",
    "path2 = os.path.join(workdir,dir2)"
   ]
  },
  {
   "cell_type": "code",
   "execution_count": 21,
   "metadata": {},
   "outputs": [
    {
     "name": "stdout",
     "output_type": "stream",
     "text": [
      "[-0.5806772   2.9857981  -1.4895264   0.45664987  2.23082    -1.9685698\n",
      "  4.1320343   1.8610803 ]\n",
      "[-0.39568976  2.553999   -1.274775    0.34922326  2.2788665  -2.3655627\n",
      "  4.2160554   1.4055042 ]\n",
      "[-0.64940447  2.9664845  -1.6622531   0.5239396   2.4412818  -2.0587168\n",
      "  4.13726     1.9111092 ]\n",
      "[ 1.6408249   0.9993216  -0.94865716 -0.24437915 -0.2951821  -1.0699033\n",
      "  2.4596934   1.595293  ]\n",
      "[ 1.6857738   1.7172734  -1.3465561   0.53758395  0.02321222 -2.0458035\n",
      "  3.778265    2.2375338 ]\n",
      "[ 1.7433841   1.4147276  -1.5931851   0.46095124 -0.4838981  -1.6090684\n",
      "  3.4077451   1.649601  ]\n"
     ]
    }
   ],
   "source": [
    "list1 = ['z.47.pkl','z.48.pkl','z.49.pkl']\n",
    "list2 = ['z.50.pkl','z.51.pkl','z.52.pkl']\n",
    "\n",
    "for i in list1:\n",
    "    with open(os.path.join(path1,i), 'rb') as file:\n",
    "        data = pickle.load(file)\n",
    "    print(data[0])\n",
    "\n",
    "for i in list2:\n",
    "    with open(os.path.join(path2,i), 'rb') as file:\n",
    "        data = pickle.load(file)\n",
    "    print(data[0])\n",
    " "
   ]
  },
  {
   "cell_type": "code",
   "execution_count": 22,
   "metadata": {},
   "outputs": [
    {
     "ename": "UnpicklingError",
     "evalue": "A load persistent id instruction was encountered,\nbut no persistent_load function was specified.",
     "output_type": "error",
     "traceback": [
      "\u001b[0;31m---------------------------------------------------------------------------\u001b[0m",
      "\u001b[0;31mUnpicklingError\u001b[0m                           Traceback (most recent call last)",
      "\u001b[1;32m/hpc/home/ds672/master/aux_functions/visualize_cs_pkl.ipynb Cell 13\u001b[0m line \u001b[0;36m6\n\u001b[1;32m      <a href='vscode-notebook-cell://ssh-remote%2Bhpc-bartesaghi-login-01.oit.duke.edu/hpc/home/ds672/master/aux_functions/visualize_cs_pkl.ipynb#X15sdnNjb2RlLXJlbW90ZQ%3D%3D?line=3'>4</a>\u001b[0m \u001b[39mfor\u001b[39;00m i \u001b[39min\u001b[39;00m list1:\n\u001b[1;32m      <a href='vscode-notebook-cell://ssh-remote%2Bhpc-bartesaghi-login-01.oit.duke.edu/hpc/home/ds672/master/aux_functions/visualize_cs_pkl.ipynb#X15sdnNjb2RlLXJlbW90ZQ%3D%3D?line=4'>5</a>\u001b[0m     \u001b[39mwith\u001b[39;00m \u001b[39mopen\u001b[39m(os\u001b[39m.\u001b[39mpath\u001b[39m.\u001b[39mjoin(path1,i), \u001b[39m'\u001b[39m\u001b[39mrb\u001b[39m\u001b[39m'\u001b[39m) \u001b[39mas\u001b[39;00m file:\n\u001b[0;32m----> <a href='vscode-notebook-cell://ssh-remote%2Bhpc-bartesaghi-login-01.oit.duke.edu/hpc/home/ds672/master/aux_functions/visualize_cs_pkl.ipynb#X15sdnNjb2RlLXJlbW90ZQ%3D%3D?line=5'>6</a>\u001b[0m         data \u001b[39m=\u001b[39m pickle\u001b[39m.\u001b[39;49mload(file)\n\u001b[1;32m      <a href='vscode-notebook-cell://ssh-remote%2Bhpc-bartesaghi-login-01.oit.duke.edu/hpc/home/ds672/master/aux_functions/visualize_cs_pkl.ipynb#X15sdnNjb2RlLXJlbW90ZQ%3D%3D?line=6'>7</a>\u001b[0m     \u001b[39mprint\u001b[39m(data[\u001b[39m0\u001b[39m])\n\u001b[1;32m      <a href='vscode-notebook-cell://ssh-remote%2Bhpc-bartesaghi-login-01.oit.duke.edu/hpc/home/ds672/master/aux_functions/visualize_cs_pkl.ipynb#X15sdnNjb2RlLXJlbW90ZQ%3D%3D?line=8'>9</a>\u001b[0m \u001b[39mfor\u001b[39;00m i \u001b[39min\u001b[39;00m list2:\n",
      "\u001b[0;31mUnpicklingError\u001b[0m: A load persistent id instruction was encountered,\nbut no persistent_load function was specified."
     ]
    }
   ],
   "source": [
    "list1 = ['weights.47.pkl','z.48.pkl','z.49.pkl']\n",
    "list2 = ['z.50.pkl','z.51.pkl','z.52.pkl']\n",
    "\n",
    "for i in list1:\n",
    "    with open(os.path.join(path1,i), 'rb') as file:\n",
    "        data = pickle.load(file)\n",
    "    print(data[0])\n",
    "\n",
    "for i in list2:\n",
    "    with open(os.path.join(path2,i), 'rb') as file:\n",
    "        data = pickle.load(file)\n",
    "    print(data[0])"
   ]
  },
  {
   "cell_type": "code",
   "execution_count": 23,
   "metadata": {},
   "outputs": [
    {
     "ename": "NameError",
     "evalue": "name 'YourModelClass' is not defined",
     "output_type": "error",
     "traceback": [
      "\u001b[0;31m---------------------------------------------------------------------------\u001b[0m",
      "\u001b[0;31mNameError\u001b[0m                                 Traceback (most recent call last)",
      "\u001b[1;32m/hpc/home/ds672/master/aux_functions/visualize_cs_pkl.ipynb Cell 14\u001b[0m line \u001b[0;36m2\n\u001b[1;32m     <a href='vscode-notebook-cell://ssh-remote%2Bhpc-bartesaghi-login-01.oit.duke.edu/hpc/home/ds672/master/aux_functions/visualize_cs_pkl.ipynb#X16sdnNjb2RlLXJlbW90ZQ%3D%3D?line=22'>23</a>\u001b[0m     \u001b[39mreturn\u001b[39;00m z_mu, z_logvar\n\u001b[1;32m     <a href='vscode-notebook-cell://ssh-remote%2Bhpc-bartesaghi-login-01.oit.duke.edu/hpc/home/ds672/master/aux_functions/visualize_cs_pkl.ipynb#X16sdnNjb2RlLXJlbW90ZQ%3D%3D?line=24'>25</a>\u001b[0m \u001b[39m# Example usage\u001b[39;00m\n\u001b[0;32m---> <a href='vscode-notebook-cell://ssh-remote%2Bhpc-bartesaghi-login-01.oit.duke.edu/hpc/home/ds672/master/aux_functions/visualize_cs_pkl.ipynb#X16sdnNjb2RlLXJlbW90ZQ%3D%3D?line=25'>26</a>\u001b[0m model \u001b[39m=\u001b[39m YourModelClass()  \u001b[39m# Replace YourModelClass with the actual class of your model\u001b[39;00m\n\u001b[1;32m     <a href='vscode-notebook-cell://ssh-remote%2Bhpc-bartesaghi-login-01.oit.duke.edu/hpc/home/ds672/master/aux_functions/visualize_cs_pkl.ipynb#X16sdnNjb2RlLXJlbW90ZQ%3D%3D?line=26'>27</a>\u001b[0m optimizer \u001b[39m=\u001b[39m torch\u001b[39m.\u001b[39moptim\u001b[39m.\u001b[39mAdam(model\u001b[39m.\u001b[39mparameters(), lr\u001b[39m=\u001b[39myour_learning_rate)  \u001b[39m# Adjust the optimizer accordingly\u001b[39;00m\n\u001b[1;32m     <a href='vscode-notebook-cell://ssh-remote%2Bhpc-bartesaghi-login-01.oit.duke.edu/hpc/home/ds672/master/aux_functions/visualize_cs_pkl.ipynb#X16sdnNjb2RlLXJlbW90ZQ%3D%3D?line=27'>28</a>\u001b[0m checkpoint_path \u001b[39m=\u001b[39m \u001b[39m'\u001b[39m\u001b[39mpath/to/weights.pkl\u001b[39m\u001b[39m'\u001b[39m\n",
      "\u001b[0;31mNameError\u001b[0m: name 'YourModelClass' is not defined"
     ]
    }
   ],
   "source": [
    "import torch\n",
    "import pickle\n",
    "\n",
    "def load_checkpoint(model, optimizer, checkpoint_path):\n",
    "    checkpoint = torch.load(checkpoint_path)\n",
    "\n",
    "    # Load model weights\n",
    "    model.load_state_dict(checkpoint['model_state_dict'])\n",
    "\n",
    "    # Load optimizer state\n",
    "    optimizer.load_state_dict(checkpoint['optimizer_state_dict'])\n",
    "\n",
    "    # Additional information if needed\n",
    "    epoch = checkpoint['epoch']\n",
    "\n",
    "    return model, optimizer, epoch\n",
    "\n",
    "def load_z(z_path):\n",
    "    with open(z_path, 'rb') as f:\n",
    "        z_mu = pickle.load(f)\n",
    "        z_logvar = pickle.load(f)\n",
    "    \n",
    "    return z_mu, z_logvar\n",
    "\n",
    "# Example usage\n",
    "model = YourModelClass()  # Replace YourModelClass with the actual class of your model\n",
    "optimizer = torch.optim.Adam(model.parameters(), lr=your_learning_rate)  # Adjust the optimizer accordingly\n",
    "checkpoint_path = 'path/to/weights.pkl'\n",
    "z_path = 'path/to/z.pkl'\n",
    "\n",
    "model, optimizer, epoch = load_checkpoint(model, optimizer, checkpoint_path)\n",
    "z_mu, z_logvar = load_z(z_path)\n",
    "\n",
    "# Now you have loaded the model, optimizer, and the z values\n",
    "# You can use them as needed in your application\n"
   ]
  },
  {
   "cell_type": "code",
   "execution_count": 1,
   "metadata": {},
   "outputs": [],
   "source": [
    "from compare_poses import *\n",
    "import os"
   ]
  },
  {
   "cell_type": "code",
   "execution_count": 2,
   "metadata": {},
   "outputs": [
    {
     "name": "stdout",
     "output_type": "stream",
     "text": [
      "0 uid 4416471137387966493\n",
      "1 blob/path b'J1/imported/004416471137387966493_L17Combine_weight_local.mrc'\n",
      "2 blob/idx 0\n",
      "3 blob/shape [320 320]\n",
      "4 blob/psize_A 1.31\n",
      "5 blob/sign 1.0\n",
      "6 blob/import_sig 10855693810086706971\n",
      "7 ctf/type b'imported'\n",
      "8 ctf/exp_group_id 0\n",
      "9 ctf/accel_kv 300.0\n",
      "10 ctf/cs_mm 2.7\n",
      "11 ctf/amp_contrast 0.07\n",
      "12 ctf/df1_A 15301.1\n",
      "13 ctf/df2_A 14916.4\n",
      "14 ctf/df_angle_rad 0.092153385\n",
      "15 ctf/phase_shift_rad 0.0\n",
      "16 ctf/scale 1.0\n",
      "17 ctf/scale_const 0.0\n",
      "18 ctf/shift_A [0. 0.]\n",
      "19 ctf/tilt_A [0. 0.]\n",
      "20 ctf/trefoil_A [0. 0.]\n",
      "21 ctf/tetra_A [0. 0. 0. 0.]\n",
      "22 ctf/anisomag [0. 0. 0. 0.]\n",
      "23 ctf/bfactor 0.0\n",
      "24 alignments3D/split 0\n",
      "25 alignments3D/shift [1.55 8.95]\n",
      "26 alignments3D/pose [ 0.08064356 -1.6935148  -0.8169543 ]\n",
      "27 alignments3D/psize_A 1.31\n",
      "28 alignments3D/error 25293.004\n",
      "29 alignments3D/error_min 0.0\n",
      "30 alignments3D/resid_pow 0.0\n",
      "31 alignments3D/slice_pow 135.68938\n",
      "32 alignments3D/image_pow 25521.688\n",
      "33 alignments3D/cross_cor 364.37305\n",
      "34 alignments3D/alpha 1.0\n",
      "35 alignments3D/alpha_min 1.3426734\n",
      "36 alignments3D/weight 0.0\n",
      "37 alignments3D/pose_ess 0.0\n",
      "38 alignments3D/shift_ess 0.0\n",
      "39 alignments3D/class_posterior 1.0\n",
      "40 alignments3D/class 0\n",
      "41 alignments3D/class_ess 1.0\n",
      "(INFO) (compare_poses.py) (07-Feb-24 12:10:29) Extracting rotations from alignments3D/pose\n",
      "(INFO) (compare_poses.py) (07-Feb-24 12:10:29) Extracting translations from alignments3D/shift\n",
      "(INFO) (compare_poses.py) (07-Feb-24 12:10:29) Extracting cross_correlations from alignments3D/cross_cor\n",
      "(INFO) (compare_poses.py) (07-Feb-24 12:10:29) Extracting indexs from blob/idx\n",
      "0 uid 4416471137387966493\n",
      "1 blob/path b'J1/imported/004416471137387966493_L17Combine_weight_local.mrc'\n",
      "2 blob/idx 0\n",
      "3 blob/shape [320 320]\n",
      "4 blob/psize_A 1.31\n",
      "5 blob/sign 1.0\n",
      "6 blob/import_sig 10855693810086706971\n",
      "7 ctf/type b'imported'\n",
      "8 ctf/exp_group_id 0\n",
      "9 ctf/accel_kv 300.0\n",
      "10 ctf/cs_mm 2.7\n",
      "11 ctf/amp_contrast 0.07\n",
      "12 ctf/df1_A 15301.1\n",
      "13 ctf/df2_A 14916.4\n",
      "14 ctf/df_angle_rad 0.092153385\n",
      "15 ctf/phase_shift_rad 0.0\n",
      "16 ctf/scale 1.0\n",
      "17 ctf/scale_const 0.0\n",
      "18 ctf/shift_A [0. 0.]\n",
      "19 ctf/tilt_A [0. 0.]\n",
      "20 ctf/trefoil_A [0. 0.]\n",
      "21 ctf/tetra_A [0. 0. 0. 0.]\n",
      "22 ctf/anisomag [0. 0. 0. 0.]\n",
      "23 ctf/bfactor 0.0\n",
      "24 alignments3D/split 0\n",
      "25 alignments3D/shift [1.85 9.25]\n",
      "26 alignments3D/pose [ 0.08765604 -1.6724774  -0.8239668 ]\n",
      "27 alignments3D/psize_A 1.31\n",
      "28 alignments3D/error 25238.293\n",
      "29 alignments3D/error_min 0.0\n",
      "30 alignments3D/resid_pow 0.0\n",
      "31 alignments3D/slice_pow 137.83168\n",
      "32 alignments3D/image_pow 25469.176\n",
      "33 alignments3D/cross_cor 368.71484\n",
      "34 alignments3D/alpha 1.0\n",
      "35 alignments3D/alpha_min 1.3375548\n",
      "36 alignments3D/weight 0.0\n",
      "37 alignments3D/pose_ess 0.0\n",
      "38 alignments3D/shift_ess 0.0\n",
      "39 alignments3D/class_posterior 1.0\n",
      "40 alignments3D/class 0\n",
      "41 alignments3D/class_ess 1.0\n",
      "(INFO) (compare_poses.py) (07-Feb-24 12:10:29) Extracting rotations from alignments3D/pose\n",
      "(INFO) (compare_poses.py) (07-Feb-24 12:10:29) Extracting translations from alignments3D/shift\n",
      "(INFO) (compare_poses.py) (07-Feb-24 12:10:29) Extracting cross_correlations from alignments3D/cross_cor\n",
      "(INFO) (compare_poses.py) (07-Feb-24 12:10:30) Extracting indexs from blob/idx\n",
      "0 uid 4416471137387966493\n",
      "1 blob/path b'J1/imported/004416471137387966493_L17Combine_weight_local.mrc'\n",
      "2 blob/idx 0\n",
      "3 blob/shape [320 320]\n",
      "4 blob/psize_A 1.31\n",
      "5 blob/sign 1.0\n",
      "6 blob/import_sig 10855693810086706971\n",
      "7 ctf/type b'imported'\n",
      "8 ctf/exp_group_id 0\n",
      "9 ctf/accel_kv 300.0\n",
      "10 ctf/cs_mm 2.7\n",
      "11 ctf/amp_contrast 0.07\n",
      "12 ctf/df1_A 15301.1\n",
      "13 ctf/df2_A 14916.4\n",
      "14 ctf/df_angle_rad 0.092153385\n",
      "15 ctf/phase_shift_rad 0.0\n",
      "16 ctf/scale 1.0\n",
      "17 ctf/scale_const 0.0\n",
      "18 ctf/shift_A [0. 0.]\n",
      "19 ctf/tilt_A [0. 0.]\n",
      "20 ctf/trefoil_A [0. 0.]\n",
      "21 ctf/tetra_A [0. 0. 0. 0.]\n",
      "22 ctf/anisomag [0. 0. 0. 0.]\n",
      "23 ctf/bfactor 0.0\n",
      "24 alignments3D/split 0\n",
      "25 alignments3D/shift [2.25 9.25]\n",
      "26 alignments3D/pose [ 0.08765604 -1.6724774  -0.8239668 ]\n",
      "27 alignments3D/psize_A 1.31\n",
      "28 alignments3D/error 25527.14\n",
      "29 alignments3D/error_min 0.0\n",
      "30 alignments3D/resid_pow 0.0\n",
      "31 alignments3D/slice_pow 137.88431\n",
      "32 alignments3D/image_pow 25758.906\n",
      "33 alignments3D/cross_cor 369.6504\n",
      "34 alignments3D/alpha 1.0\n",
      "35 alignments3D/alpha_min 1.3404368\n",
      "36 alignments3D/weight 0.0\n",
      "37 alignments3D/pose_ess 0.0\n",
      "38 alignments3D/shift_ess 0.0\n",
      "39 alignments3D/class_posterior 1.0\n",
      "40 alignments3D/class 0\n",
      "41 alignments3D/class_ess 1.0\n",
      "(INFO) (compare_poses.py) (07-Feb-24 12:10:30) Extracting rotations from alignments3D/pose\n",
      "(INFO) (compare_poses.py) (07-Feb-24 12:10:30) Extracting translations from alignments3D/shift\n",
      "(INFO) (compare_poses.py) (07-Feb-24 12:10:30) Extracting cross_correlations from alignments3D/cross_cor\n",
      "(INFO) (compare_poses.py) (07-Feb-24 12:10:30) Extracting indexs from blob/idx\n",
      "0 uid 4416471137387966493\n",
      "1 blob/path b'J1/imported/004416471137387966493_L17Combine_weight_local.mrc'\n",
      "2 blob/idx 0\n",
      "3 blob/shape [320 320]\n",
      "4 blob/psize_A 1.31\n",
      "5 blob/sign 1.0\n",
      "6 blob/import_sig 10855693810086706971\n",
      "7 ctf/type b'imported'\n",
      "8 ctf/exp_group_id 0\n",
      "9 ctf/accel_kv 300.0\n",
      "10 ctf/cs_mm 2.7\n",
      "11 ctf/amp_contrast 0.07\n",
      "12 ctf/df1_A 15301.1\n",
      "13 ctf/df2_A 14916.4\n",
      "14 ctf/df_angle_rad 0.092153385\n",
      "15 ctf/phase_shift_rad 0.0\n",
      "16 ctf/scale 1.0\n",
      "17 ctf/scale_const 0.0\n",
      "18 ctf/shift_A [0. 0.]\n",
      "19 ctf/tilt_A [0. 0.]\n",
      "20 ctf/trefoil_A [0. 0.]\n",
      "21 ctf/tetra_A [0. 0. 0. 0.]\n",
      "22 ctf/anisomag [0. 0. 0. 0.]\n",
      "23 ctf/bfactor 0.0\n",
      "24 alignments3D/split 0\n",
      "25 alignments3D/shift [1.75 9.15]\n",
      "26 alignments3D/pose [ 0.08064356 -1.6865023  -0.8309793 ]\n",
      "27 alignments3D/psize_A 1.31\n",
      "28 alignments3D/error 25607.717\n",
      "29 alignments3D/error_min 0.0\n",
      "30 alignments3D/resid_pow 0.0\n",
      "31 alignments3D/slice_pow 137.85522\n",
      "32 alignments3D/image_pow 25838.64\n",
      "33 alignments3D/cross_cor 368.7793\n",
      "34 alignments3D/alpha 1.0\n",
      "35 alignments3D/alpha_min 1.33756\n",
      "36 alignments3D/weight 0.0\n",
      "37 alignments3D/pose_ess 0.0\n",
      "38 alignments3D/shift_ess 0.0\n",
      "39 alignments3D/class_posterior 1.0\n",
      "40 alignments3D/class 0\n",
      "41 alignments3D/class_ess 1.0\n",
      "(INFO) (compare_poses.py) (07-Feb-24 12:10:30) Extracting rotations from alignments3D/pose\n",
      "(INFO) (compare_poses.py) (07-Feb-24 12:10:30) Extracting translations from alignments3D/shift\n",
      "(INFO) (compare_poses.py) (07-Feb-24 12:10:31) Extracting cross_correlations from alignments3D/cross_cor\n",
      "(INFO) (compare_poses.py) (07-Feb-24 12:10:31) Extracting indexs from blob/idx\n",
      "0 uid 4416471137387966493\n",
      "1 blob/path b'J1/imported/004416471137387966493_L17Combine_weight_local.mrc'\n",
      "2 blob/idx 0\n",
      "3 blob/shape [320 320]\n",
      "4 blob/psize_A 1.31\n",
      "5 blob/sign 1.0\n",
      "6 blob/import_sig 10855693810086706971\n",
      "7 ctf/type b'imported'\n",
      "8 ctf/exp_group_id 0\n",
      "9 ctf/accel_kv 300.0\n",
      "10 ctf/cs_mm 2.7\n",
      "11 ctf/amp_contrast 0.07\n",
      "12 ctf/df1_A 15301.1\n",
      "13 ctf/df2_A 14916.4\n",
      "14 ctf/df_angle_rad 0.092153385\n",
      "15 ctf/phase_shift_rad 0.0\n",
      "16 ctf/scale 1.0\n",
      "17 ctf/scale_const 0.0\n",
      "18 ctf/shift_A [0. 0.]\n",
      "19 ctf/tilt_A [0. 0.]\n",
      "20 ctf/trefoil_A [0. 0.]\n",
      "21 ctf/tetra_A [0. 0. 0. 0.]\n",
      "22 ctf/anisomag [0. 0. 0. 0.]\n",
      "23 ctf/bfactor 0.0\n",
      "24 alignments3D/split 0\n",
      "25 alignments3D/shift [1.45 8.85]\n",
      "26 alignments3D/pose [ 0.08064356 -1.6865023  -0.8239668 ]\n",
      "27 alignments3D/psize_A 1.31\n",
      "28 alignments3D/error 25108.146\n",
      "29 alignments3D/error_min 0.0\n",
      "30 alignments3D/resid_pow 0.0\n",
      "31 alignments3D/slice_pow 136.64317\n",
      "32 alignments3D/image_pow 25337.69\n",
      "33 alignments3D/cross_cor 366.18555\n",
      "34 alignments3D/alpha 1.0\n",
      "35 alignments3D/alpha_min 1.3399335\n",
      "36 alignments3D/weight 0.0\n",
      "37 alignments3D/pose_ess 0.0\n",
      "38 alignments3D/shift_ess 0.0\n",
      "39 alignments3D/class_posterior 1.0\n",
      "40 alignments3D/class 0\n",
      "41 alignments3D/class_ess 1.0\n",
      "(INFO) (compare_poses.py) (07-Feb-24 12:10:31) Extracting rotations from alignments3D/pose\n",
      "(INFO) (compare_poses.py) (07-Feb-24 12:10:31) Extracting translations from alignments3D/shift\n",
      "(INFO) (compare_poses.py) (07-Feb-24 12:10:31) Extracting cross_correlations from alignments3D/cross_cor\n",
      "(INFO) (compare_poses.py) (07-Feb-24 12:10:31) Extracting indexs from blob/idx\n"
     ]
    }
   ],
   "source": [
    "workdir = '/nfs/bartesaghilab2/ds672/empiar10076/february_2024_pose_refinement_files/poses_iteration_1'\n",
    "filedir = 'final_poses_standard_lastiter.pkl'\n",
    "\n",
    "N = 131899 #Num of particles\n",
    "\n",
    "files = os.listdir(workdir)\n",
    "\n",
    "#Defino listas que tendrán K vectores de rotaciones, traslaciones, correlaciones e índices\n",
    "rots = [] \n",
    "trans = []\n",
    "idxs = []\n",
    "corrs = []\n",
    "\n",
    "for file in files:\n",
    "    #Acá estaba trabajando con estos .cs, pero habría que definir mejor los nombres en lugar de meterlos directo al if\n",
    "    #TODO: Emprolijar if\n",
    "    #if file.endswith('65_000_particles.cs') or file.endswith('66_000_particles.cs') or file.endswith('67_000_particles.cs') or file.endswith('68_000_particles.cs') or file.endswith('69_000_particles.cs'):\n",
    "    if file.endswith('.cs'):    \n",
    "        rot, tran, corr, idx = extract_info_from_cs(os.path.join(workdir, file))\n",
    "        #sublist = [idx, corr]\n",
    "        #sublist = list(zip(idx, corr))\n",
    "        rots.append(rot)\n",
    "        trans.append(tran)\n",
    "        idxs.append(idx)\n",
    "        corrs.append(corr)\n",
    "\n",
    "\n",
    "sublist = [(idx_tot, corr_tot) for idx_tot, corr_tot in zip(idxs, corrs)]\n",
    "final_list = relation_idx_corr(N, sublist)\n",
    "empty_lists_idx, filled_lists_idx = empty_or_filled_lists(final_list)"
   ]
  },
  {
   "cell_type": "code",
   "execution_count": 13,
   "metadata": {},
   "outputs": [
    {
     "name": "stdout",
     "output_type": "stream",
     "text": [
      "5\n",
      "131899\n"
     ]
    }
   ],
   "source": [
    "print(len(rots))\n",
    "print(len(rots[0]))"
   ]
  },
  {
   "cell_type": "code",
   "execution_count": 23,
   "metadata": {},
   "outputs": [],
   "source": [
    "import csv\n",
    "\n",
    "N  = 4\n",
    "\n",
    "def guardar_en_csv(rots, trans, corrs, idxs, filename):\n",
    "    # Abre el archivo CSV en modo escritura\n",
    "    with open(filename, 'w', newline='') as archivo_csv:\n",
    "        # Crea un objeto escritor CSV\n",
    "        writer_csv = csv.writer(archivo_csv)\n",
    "        headers = ['Index','rot_0','rot_1','rot_2','rot_3','rot_4','trans_0','trans_1','trans_2','trans_3','trans_4','corr_0','corr_1','corr_2','corr_3','corr_4']\n",
    "        # Write headers:\n",
    "        writer_csv.writerow(headers)\n",
    "        # Escribe los elementos de la lista en el archivo CSV\n",
    "        for n in range(N):\n",
    "            vec = []\n",
    "            vec.append(n)\n",
    "            for i in range(len(rots)):\n",
    "                vec.append(rots[i][n])\n",
    "            for i in range(len(trans)):\n",
    "                vec.append(trans[i][n])\n",
    "            for i in range(len(corrs)):\n",
    "                vec.append(corrs[i][n])\n",
    "\n",
    "            writer_csv.writerow(vec)\n",
    "\n",
    "# Ejemplo de uso\n",
    "guardar_en_csv(rots, trans, corrs, idxs, '/nfs/bartesaghilab2/ds672/empiar10076/february_2024_pose_refinement_files/poses_iteration_1/poses_visualization.csv')\n"
   ]
  },
  {
   "cell_type": "code",
   "execution_count": 27,
   "metadata": {},
   "outputs": [
    {
     "name": "stdout",
     "output_type": "stream",
     "text": [
      "[[[-0.28855526 -0.47663772 -0.8303928 ]\n",
      "  [ 0.36794943  0.74548256 -0.5557597 ]\n",
      "  [ 0.88393945 -0.46591002 -0.03973448]]\n",
      "\n",
      " [[-0.8285426   0.40809864  0.38337058]\n",
      "  [-0.5367968  -0.77368784 -0.33653617]\n",
      "  [ 0.15926915 -0.4846266   0.8600991 ]]\n",
      "\n",
      " [[-0.6130316   0.24081491  0.7524629 ]\n",
      "  [ 0.17420827 -0.88777065  0.4260457 ]\n",
      "  [ 0.77061254  0.39226475  0.5022795 ]]\n",
      "\n",
      " ...\n",
      "\n",
      " [[-0.3922404  -0.56661093  0.72463757]\n",
      "  [-0.6070607   0.7513085   0.25886858]\n",
      "  [-0.6911041  -0.33836025 -0.63866067]]\n",
      "\n",
      " [[ 0.06650263  0.7302045   0.67998433]\n",
      "  [ 0.50954074  0.56107783 -0.6523495 ]\n",
      "  [-0.8578727   0.38986266 -0.33475578]]\n",
      "\n",
      " [[ 0.08563626  0.6382742  -0.76503104]\n",
      "  [ 0.28127205  0.7211305   0.6331326 ]\n",
      "  [ 0.9557994  -0.26940095 -0.11777377]]]\n"
     ]
    }
   ],
   "source": [
    "workdir = '/nfs/bartesaghilab2/ds672'\n",
    "my_poses_iter0 = '/nfs/bartesaghilab2/ds672/empiar10076/inputs/mine_poses.pkl'\n",
    "\n",
    "with open(my_poses_iter0, 'rb') as file:\n",
    "    data = pickle.load(file)[0]\n",
    "\n",
    "print(data)"
   ]
  },
  {
   "cell_type": "code",
   "execution_count": null,
   "metadata": {},
   "outputs": [],
   "source": []
  }
 ],
 "metadata": {
  "kernelspec": {
   "display_name": "cryodrgn",
   "language": "python",
   "name": "python3"
  },
  "language_info": {
   "codemirror_mode": {
    "name": "ipython",
    "version": 3
   },
   "file_extension": ".py",
   "mimetype": "text/x-python",
   "name": "python",
   "nbconvert_exporter": "python",
   "pygments_lexer": "ipython3",
   "version": "3.9.18"
  }
 },
 "nbformat": 4,
 "nbformat_minor": 2
}
