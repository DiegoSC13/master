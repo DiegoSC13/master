{
 "cells": [
  {
   "cell_type": "code",
   "execution_count": 3,
   "metadata": {},
   "outputs": [],
   "source": [
    "\"\"\"\n",
    "Me robé los imports de otra función, después debería emprolijar borrando las que no use\n",
    "\"\"\"\n",
    "\n",
    "import argparse\n",
    "import os\n",
    "import os.path\n",
    "import shutil\n",
    "from datetime import datetime as dt\n",
    "import logging\n",
    "import matplotlib\n",
    "import matplotlib.pyplot as plt\n",
    "import numpy as np\n",
    "import seaborn as sns\n",
    "import cryodrgn\n",
    "from cryodrgn import analysis, utils, config"
   ]
  },
  {
   "cell_type": "code",
   "execution_count": null,
   "metadata": {},
   "outputs": [],
   "source": [
    "#Levanto los centros de KMeans en UMAP del modelo original (downs=256, z=8)\n",
    "\n"
   ]
  },
  {
   "cell_type": "code",
   "execution_count": null,
   "metadata": {},
   "outputs": [],
   "source": [
    "logger = logging.getLogger(__name__)\n",
    "\n",
    "t1 = dt.now()\n",
    "#E = args.epoch\n",
    "E = 64\n",
    "#workdir = args.workdir\n",
    "workdir = '/nfs/bartesaghilab2/ds672/empiar10076/2023_11_16_output_tutorial_downsampling_256_z_8_myposes_iteration2_filtered_refinament/'\n",
    "zfile = f\"{workdir}/z.{E}.pkl\"\n",
    "weights = f\"{workdir}/weights.{E}.pkl\"\n",
    "cfg = (\n",
    "    f\"{workdir}/config.yaml\"\n",
    "    if os.path.exists(f\"{workdir}/config.yaml\")\n",
    "    else f\"{workdir}/config.pkl\"\n",
    ")\n",
    "outdir = f\"{workdir}/analyze.{E}\"\n",
    "if E == -1:\n",
    "    zfile = f\"{workdir}/z.pkl\"\n",
    "    weights = f\"{workdir}/weights.pkl\"\n",
    "    outdir = f\"{workdir}/analyze\"\n",
    "\n",
    "# if args.outdir:\n",
    "#     outdir = args.outdir\n",
    "outdir = os.path.join(workdir, 'analyze.64/testing_volumes_per_indexs')\n",
    "logger.info(f\"Saving results to {outdir}\")\n",
    "if not os.path.exists(outdir):\n",
    "    os.mkdir(outdir)\n",
    "\n",
    "z = utils.load_pkl(zfile)\n",
    "zdim = z.shape[1]\n",
    "\n",
    "# vol_args = dict(\n",
    "#     Apix=args.Apix,\n",
    "#     downsample=args.downsample,\n",
    "#     flip=args.flip,\n",
    "#     device=args.device,\n",
    "#     invert=args.invert,\n",
    "#     vol_start_index=args.vol_start_index,\n",
    "# )\n",
    "\n",
    "vol_args = dict(\n",
    "    Apix=3.275,\n",
    "    downsample=None,\n",
    "    flip=args.flip,\n",
    "    device=None,\n",
    "    invert=args.invert,\n",
    "    vol_start_index=None,\n",
    ")\n",
    "vg = VolumeGenerator(weights, cfg, vol_args, skip_vol=args.skip_vol)"
   ]
  },
  {
   "cell_type": "code",
   "execution_count": null,
   "metadata": {},
   "outputs": [],
   "source": [
    "zdim = z.shape[1]\n",
    "\n",
    "# Principal component analysis\n",
    "logger.info(\"Performing principal component analysis...\")\n",
    "pc, pca = analysis.run_pca(z)\n",
    "logger.info(\"Generating volumes for trajectories analysis...\")\n",
    "for i in range(num_pcs):\n",
    "    start, end = np.percentile(pc[:, i], (5, 95))\n",
    "    z_pc = analysis.get_pc_traj(pca, z.shape[1], 10, i + 1, start, end)\n",
    "    vg.gen_volumes(f\"{outdir}/pc{i+1}\", z_pc)\n",
    "\n",
    "# kmeans clustering\n",
    "logger.info(\"K-means clustering...\")\n",
    "K = num_ksamples\n",
    "kmeans_labels, centers = analysis.cluster_kmeans(z, K)\n",
    "centers, centers_ind = analysis.get_nearest_point(z, centers)\n",
    "if not os.path.exists(f\"{outdir}/kmeans{K}\"):\n",
    "    os.mkdir(f\"{outdir}/kmeans{K}\")\n",
    "utils.save_pkl(kmeans_labels, f\"{outdir}/kmeans{K}/labels.pkl\")\n",
    "np.savetxt(f\"{outdir}/kmeans{K}/centers.txt\", centers)\n",
    "np.savetxt(f\"{outdir}/kmeans{K}/centers_ind.txt\", centers_ind, fmt=\"%d\")\n",
    "logger.info(\"Generating volumes...\")\n",
    "vg.gen_volumes(f\"{outdir}/kmeans{K}\", centers)"
   ]
  }
 ],
 "metadata": {
  "kernelspec": {
   "display_name": "cryodrgn",
   "language": "python",
   "name": "python3"
  },
  "language_info": {
   "codemirror_mode": {
    "name": "ipython",
    "version": 3
   },
   "file_extension": ".py",
   "mimetype": "text/x-python",
   "name": "python",
   "nbconvert_exporter": "python",
   "pygments_lexer": "ipython3",
   "version": "3.9.18"
  }
 },
 "nbformat": 4,
 "nbformat_minor": 2
}
