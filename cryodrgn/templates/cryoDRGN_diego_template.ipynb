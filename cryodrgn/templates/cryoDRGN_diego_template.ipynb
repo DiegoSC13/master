{
 "cells": [
  {
   "cell_type": "markdown",
   "id": "12d6bdad",
   "metadata": {},
   "source": [
    "# CryoDRGN - Diego visualization and figures\n",
    "\n",
    "This jupyter notebook provides a template for regenerating and customizing cryoDRGN visualizations and figures"
   ]
  },
  {
   "cell_type": "code",
   "execution_count": null,
   "id": "b98dcf23",
   "metadata": {},
   "outputs": [],
   "source": [
    "from cryodrgn import analysis\n",
    "from cryodrgn import utils\n",
    "import cryodrgn.config\n",
    "\n",
    "import numpy as np\n",
    "import matplotlib.pyplot as plt\n",
    "import seaborn as sns\n",
    "from sklearn.cluster import DBSCAN"
   ]
  },
  {
   "cell_type": "code",
   "execution_count": null,
   "id": "0e7729ee",
   "metadata": {},
   "outputs": [],
   "source": [
    "# Enable interactive widgets\n",
    "!jupyter nbextension enable --py widgetsnbextension"
   ]
  },
  {
   "cell_type": "code",
   "execution_count": null,
   "id": "5aa8e00c",
   "metadata": {},
   "outputs": [],
   "source": [
    "def plot_by_cluster_2(\n",
    "    x,\n",
    "    y,\n",
    "    K,\n",
    "    labels,\n",
    "    centers=None,\n",
    "    centers_ind=None,\n",
    "    annotate=False,\n",
    "    s=2,\n",
    "    alpha=0.1,\n",
    "    colors=None,\n",
    "    cmap=None,\n",
    "    figsize=None,\n",
    "    ax=None,\n",
    "):\n",
    "    if ax is None:\n",
    "        fig, ax = plt.subplots(figsize=figsize)\n",
    "    else:\n",
    "        fig = ax.get_figure()\n",
    "\n",
    "    if type(K) is int:\n",
    "        K = list(range(K))\n",
    "\n",
    "    if colors is None:\n",
    "        colors = analysis._get_colors(len(K), cmap)\n",
    "\n",
    "    # scatter by cluster\n",
    "    for i in K:\n",
    "        ii = labels == i\n",
    "        x_sub = x[ii]\n",
    "        y_sub = y[ii]\n",
    "        ax.scatter(\n",
    "            x_sub,\n",
    "            y_sub,\n",
    "            s=s,\n",
    "            alpha=alpha,\n",
    "            label=\"cluster {}\".format(i),\n",
    "            color=colors[i],\n",
    "            rasterized=True,\n",
    "        )\n",
    "\n",
    "    # plot cluster centers\n",
    "    if centers_ind is not None:\n",
    "        assert centers is None\n",
    "        centers = np.array([[x[i], y[i]] for i in centers_ind])\n",
    "    if centers is not None:\n",
    "        ax.scatter(centers[:, 0], centers[:, 1], c=\"k\")\n",
    "    if annotate:\n",
    "        assert centers is not None\n",
    "        for i in K:\n",
    "            ax.annotate(str(i), centers[i, 0:2])\n",
    "    return fig, ax\n"
   ]
  },
  {
   "cell_type": "markdown",
   "id": "032f60a1",
   "metadata": {},
   "source": [
    "### Load dataset"
   ]
  },
  {
   "cell_type": "code",
   "execution_count": null,
   "id": "fd51b651",
   "metadata": {},
   "outputs": [],
   "source": [
    "# Specify the workdir, the epoch number (0-based index) and the number of clusters for K-Means \n",
    "# and Gaussian Mixture Models\n",
    "\n",
    "WORKDIR = '..' # CHANGE ME\n",
    "EPOCH = 49 # CHANGE ME\n",
    "K = 20 # CHANGE ME"
   ]
  },
  {
   "cell_type": "code",
   "execution_count": null,
   "id": "46b7bc30",
   "metadata": {},
   "outputs": [],
   "source": [
    "# Load configuration file\n",
    "config = cryodrgn.config.load(f'{WORKDIR}/config.yaml')\n",
    "print(config)"
   ]
  },
  {
   "cell_type": "code",
   "execution_count": null,
   "id": "3759776f",
   "metadata": {},
   "outputs": [],
   "source": []
  },
  {
   "cell_type": "markdown",
   "id": "47ec8987",
   "metadata": {},
   "source": [
    "### Load results"
   ]
  },
  {
   "cell_type": "code",
   "execution_count": null,
   "id": "551cc751",
   "metadata": {},
   "outputs": [],
   "source": [
    "# Load z\n",
    "z = utils.load_pkl(f'{WORKDIR}/z.{EPOCH}.pkl')\n",
    "umap = utils.load_pkl(f'{WORKDIR}/analysis_diego.{EPOCH}/umap.pkl')"
   ]
  },
  {
   "cell_type": "markdown",
   "id": "3148a3a6",
   "metadata": {},
   "source": [
    "### Learning curve"
   ]
  },
  {
   "cell_type": "code",
   "execution_count": null,
   "id": "21114ee5",
   "metadata": {},
   "outputs": [],
   "source": [
    "loss = analysis.parse_loss(f'{WORKDIR}/run.log')\n",
    "plt.plot(loss)\n",
    "plt.xlabel(\"Epoch\")\n",
    "plt.ylabel(\"Loss\")\n",
    "plt.axvline(x=EPOCH, linestyle=\"--\", color=\"black\", label=f\"Epoch {EPOCH}\")\n",
    "plt.legend()"
   ]
  },
  {
   "cell_type": "markdown",
   "id": "9cce7848",
   "metadata": {},
   "source": [
    "# Plot PCA\n",
    "\n",
    "Visualize the latent space by principal component analysis (PCA)."
   ]
  },
  {
   "cell_type": "code",
   "execution_count": null,
   "id": "81518fa1",
   "metadata": {},
   "outputs": [],
   "source": [
    "pc, pca = analysis.run_pca(z)"
   ]
  },
  {
   "cell_type": "code",
   "execution_count": null,
   "id": "a441bce1",
   "metadata": {},
   "outputs": [],
   "source": [
    "# Style 1 -- Scatter\n",
    "\n",
    "plt.figure(figsize=(4,4))\n",
    "plt.scatter(pc[:,0], pc[:,1], alpha=.1, s=1,rasterized=True)\n",
    "plt.xlabel('PC1 ({:.2f})'.format(pca.explained_variance_ratio_[0]))\n",
    "plt.ylabel('PC2 ({:.2f})'.format(pca.explained_variance_ratio_[1]))\n",
    "#plt.savefig('pca_style1.pdf')"
   ]
  },
  {
   "cell_type": "code",
   "execution_count": null,
   "id": "7fe803e6",
   "metadata": {},
   "outputs": [],
   "source": [
    "# Style 2 -- Scatter with marginals\n",
    "\n",
    "g = sns.jointplot(x=pc[:,0], y=pc[:,1], alpha=.1, s=1,rasterized=True, height=4)\n",
    "g.ax_joint.set_xlabel('PC1 ({:.2f})'.format(pca.explained_variance_ratio_[0]))\n",
    "g.ax_joint.set_ylabel('PC2 ({:.2f})'.format(pca.explained_variance_ratio_[1]))\n",
    "#plt.savefig('pca_style2.pdf')"
   ]
  },
  {
   "cell_type": "code",
   "execution_count": null,
   "id": "d27280eb",
   "metadata": {},
   "outputs": [],
   "source": [
    "# Style 3 -- Hexbin/heatmap\n",
    "\n",
    "g = sns.jointplot(x=pc[:,0], y=pc[:,1], height=4, kind='hex')\n",
    "plt.xlabel('PC1 ({:.2f})'.format(pca.explained_variance_ratio_[0]))\n",
    "plt.ylabel('PC2 ({:.2f})'.format(pca.explained_variance_ratio_[1]))\n",
    "#plt.savefig('pca_style3.pdf')"
   ]
  },
  {
   "cell_type": "code",
   "execution_count": null,
   "id": "0025f273",
   "metadata": {},
   "outputs": [],
   "source": [
    "# Explained variance\n",
    "\n",
    "plt.bar(np.arange(z.shape[1])+1,pca.explained_variance_ratio_)\n",
    "plt.xticks(np.arange(z.shape[1])+1)\n",
    "plt.xlabel('PC')\n",
    "plt.ylabel('explained variance')"
   ]
  },
  {
   "cell_type": "markdown",
   "id": "cea11ef1",
   "metadata": {},
   "source": [
    "# Plot UMAP\n",
    "\n",
    "Visualize the latent space by Uniform Manifold Approximation and Projection (UMAP). "
   ]
  },
  {
   "cell_type": "code",
   "execution_count": null,
   "id": "feb9a1d1",
   "metadata": {},
   "outputs": [],
   "source": [
    "# Style 1 -- Scatter\n",
    "\n",
    "plt.figure(figsize=(4,4))\n",
    "plt.scatter(umap[:,0], umap[:,1], alpha=.1, s=1,rasterized=True)\n",
    "plt.xticks([])\n",
    "plt.yticks([])\n",
    "plt.xlabel('UMAP1')\n",
    "plt.ylabel('UMAP2')\n",
    "#plt.savefig('umap_style1.pdf')"
   ]
  },
  {
   "cell_type": "code",
   "execution_count": null,
   "id": "8e5dd8a8",
   "metadata": {},
   "outputs": [],
   "source": [
    "# Style 2 -- Scatter with marginal distributions\n",
    "\n",
    "g = sns.jointplot(x=umap[:,0], y=umap[:,1], alpha=.1, s=1,rasterized=True, height=4)\n",
    "g.ax_joint.set_xlabel('UMAP1')\n",
    "g.ax_joint.set_ylabel('UMAP2')\n",
    "#plt.savefig('umap_style2.pdf')"
   ]
  },
  {
   "cell_type": "code",
   "execution_count": null,
   "id": "dc4def2a",
   "metadata": {},
   "outputs": [],
   "source": [
    "# Style 3 -- Hexbin / heatmap\n",
    "\n",
    "g = sns.jointplot(x=umap[:,0], y=umap[:,1], kind='hex',height=4)\n",
    "g.ax_joint.set_xlabel('UMAP1')\n",
    "g.ax_joint.set_ylabel('UMAP2')\n",
    "#plt.savefig('umap_style3.pdf')"
   ]
  },
  {
   "cell_type": "markdown",
   "id": "7cd98f8e",
   "metadata": {},
   "source": [
    "# Plot K-Means samples by clustering on z, PCA and UMAPs"
   ]
  },
  {
   "cell_type": "code",
   "execution_count": null,
   "id": "e992fca8",
   "metadata": {},
   "outputs": [],
   "source": [
    "# Load centers\n",
    "kmeans_ind_z = np.loadtxt(f'{WORKDIR}/analysis_diego.{EPOCH}/kmeans{K}_z/centers_ind.txt', dtype=int)\n",
    "kmeans_ind_pca = np.loadtxt(f'{WORKDIR}/analysis_diego.{EPOCH}/kmeans{K}_pca/centers_ind.txt', dtype=int)\n",
    "kmeans_ind_umap = np.loadtxt(f'{WORKDIR}/analysis_diego.{EPOCH}/kmeans{K}_umap/centers_ind.txt', dtype=int)\n",
    "\n",
    "# Default chimerax color map\n",
    "colors = analysis._get_chimerax_colors(K)"
   ]
  },
  {
   "cell_type": "code",
   "execution_count": null,
   "id": "4f176e1f",
   "metadata": {},
   "outputs": [],
   "source": [
    "# Load kmeans on z\n",
    "kmeans_labels_z = utils.load_pkl(f'{WORKDIR}/analysis_diego.{EPOCH}/kmeans{K}_z/labels.pkl')\n",
    "kmeans_centers_z = np.loadtxt(f'{WORKDIR}/analysis_diego.{EPOCH}/kmeans{K}_z/centers.txt')\n",
    "# Or re-run kmeans with the desired number of classes\n",
    "#kmeans_labels, kmeans_centers = analysis.cluster_kmeans(z, 20)\n",
    "\n",
    "# Get index for on-data cluster center\n",
    "kmeans_centers_z, _ = analysis.get_nearest_point(z, kmeans_centers_z)"
   ]
  },
  {
   "cell_type": "code",
   "execution_count": null,
   "id": "796eb6e1",
   "metadata": {},
   "outputs": [],
   "source": [
    "# Load kmeans on PCA\n",
    "kmeans_labels_pca = utils.load_pkl(f'{WORKDIR}/analysis_diego.{EPOCH}/kmeans{K}_pca/labels.pkl')\n",
    "kmeans_centers_pca = np.loadtxt(f'{WORKDIR}/analysis_diego.{EPOCH}/kmeans{K}_pca/centers.txt')\n",
    "# Or re-run kmeans with the desired number of classes\n",
    "#kmeans_labels, kmeans_centers = analysis.cluster_kmeans(z, 20)\n",
    "\n",
    "# Get index for on-data cluster center\n",
    "kmeans_centers_pca, _ = analysis.get_nearest_point(pc, kmeans_centers_pca)"
   ]
  },
  {
   "cell_type": "code",
   "execution_count": null,
   "id": "8d39d1d7",
   "metadata": {},
   "outputs": [],
   "source": [
    "# Plot PCA-kmeans on PCA\n",
    "\n",
    "plot_by_cluster_2(pc[:,0], pc[:,1], K, \n",
    "                         kmeans_labels_pca, \n",
    "                         centers_ind=kmeans_ind_pca,\n",
    "                         annotate=True)\n",
    "plt.title('PCA-KMeans, Centers and Clusters')\n",
    "plt.xlabel('PCA1')\n",
    "plt.ylabel('PCA2')"
   ]
  },
  {
   "cell_type": "code",
   "execution_count": null,
   "id": "75624651",
   "metadata": {},
   "outputs": [],
   "source": [
    "#Plot de cada cluster\n",
    "\n",
    "fig, ax = analysis.plot_by_cluster_subplot(pc[:,0], pc[:,1], K, \n",
    "                            kmeans_labels_pca)"
   ]
  },
  {
   "cell_type": "code",
   "execution_count": null,
   "id": "e3249ebb",
   "metadata": {},
   "outputs": [],
   "source": [
    "# Load kmeans on UMAP\n",
    "\n",
    "# Load kmeans\n",
    "kmeans_labels_umap = utils.load_pkl(f'{WORKDIR}/analysis_diego.{EPOCH}/kmeans{K}_umap/labels.pkl')\n",
    "kmeans_centers_umap = np.loadtxt(f'{WORKDIR}/analysis_diego.{EPOCH}/kmeans{K}_umap/centers.txt')\n",
    "# Or re-run kmeans with the desired number of classes\n",
    "#kmeans_labels, kmeans_centers = analysis.cluster_kmeans(z, 20)\n",
    "\n",
    "# Get index for on-data cluster center\n",
    "kmeans_centers_umap, _ = analysis.get_nearest_point(umap, kmeans_centers_umap)"
   ]
  },
  {
   "cell_type": "code",
   "execution_count": null,
   "id": "7bae8c55",
   "metadata": {},
   "outputs": [],
   "source": [
    "# Plot UMAP-kmeans on UMAP\n",
    "\n",
    "plot_by_cluster_2(umap[:,0], umap[:,1], K, \n",
    "                         kmeans_labels_umap, \n",
    "                         centers_ind=kmeans_ind_umap,\n",
    "                         annotate=True)\n",
    "plt.title('UMAP-KMeans, Centers and Clusters')\n",
    "plt.xlabel('UMAP1')\n",
    "plt.ylabel('UMAP2')"
   ]
  },
  {
   "cell_type": "code",
   "execution_count": null,
   "id": "8113506f",
   "metadata": {},
   "outputs": [],
   "source": [
    "fig, ax = analysis.plot_by_cluster_subplot(umap[:,0], umap[:,1], K, \n",
    "                            kmeans_labels_umap)"
   ]
  },
  {
   "cell_type": "code",
   "execution_count": null,
   "id": "3c4c0bbb",
   "metadata": {},
   "outputs": [],
   "source": [
    "#Plot K-Means Clustering applied on z, PCA and UMAP. Shown on PCA\n",
    "\n",
    "fig, axs = plt.subplots(1, 3, figsize=(10, 4))\n",
    "\n",
    "# K-means sobre z proyectado en PCA\n",
    "plot_by_cluster_2(\n",
    "    pc[:,0], pc[:,1], K, \n",
    "    kmeans_labels_z, \n",
    "    centers_ind=kmeans_ind_z, \n",
    "    annotate=True, ax=axs[0]\n",
    ")\n",
    "axs[0].set_xlabel('PCA1')\n",
    "axs[0].set_ylabel('PCA2')\n",
    "axs[0].set_title('z-KMeans sobre PCA')\n",
    "\n",
    "# K-means sobre PCA proyectado en PCA\n",
    "plot_by_cluster_2(\n",
    "    pc[:,0], pc[:,1], K, \n",
    "    kmeans_labels_pca, \n",
    "    centers_ind=kmeans_ind_pca, \n",
    "    annotate=True, ax=axs[1]\n",
    ")\n",
    "axs[1].set_xlabel('PC1')\n",
    "axs[1].set_ylabel('PC2')\n",
    "axs[1].set_title('PCA-KMeans sobre PCA')\n",
    "\n",
    "# K-means sobre UMAP proyectado en PCA\n",
    "plot_by_cluster_2(\n",
    "    pc[:,0], pc[:,1], K, \n",
    "    kmeans_labels_umap, \n",
    "    centers_ind=kmeans_ind_umap, \n",
    "    annotate=True, ax=axs[2]\n",
    ")\n",
    "axs[2].set_xlabel('PC1')\n",
    "axs[2].set_ylabel('PC2')\n",
    "axs[2].set_title('UMAP-KMeans sobre PCA')\n",
    "\n",
    "fig.tight_layout()\n",
    "plt.show()\n"
   ]
  },
  {
   "cell_type": "code",
   "execution_count": null,
   "id": "ab037d33",
   "metadata": {},
   "outputs": [],
   "source": [
    "fig, axs = plt.subplots(1, 3, figsize=(10, 4))\n",
    "\n",
    "# z-KMeans sobre UMAP\n",
    "plot_by_cluster_2(\n",
    "    umap[:,0], umap[:,1], K, \n",
    "    kmeans_labels_z, \n",
    "    centers_ind=kmeans_ind_z, \n",
    "    annotate=True, ax=axs[0]\n",
    ")\n",
    "axs[0].set_xlabel('UMAP1')\n",
    "axs[0].set_ylabel('UMAP2')\n",
    "axs[0].set_title('z-KMeans sobre UMAP')\n",
    "\n",
    "# PCA-KMeans sobre UMAP\n",
    "plot_by_cluster_2(\n",
    "    umap[:,0], umap[:,1], K, \n",
    "    kmeans_labels_pca, \n",
    "    centers_ind=kmeans_ind_pca, \n",
    "    annotate=True, ax=axs[1]\n",
    ")\n",
    "axs[1].set_xlabel('UMAP1')\n",
    "axs[1].set_ylabel('UMAP2')\n",
    "axs[1].set_title('PCA-KMeans sobre UMAP')\n",
    "\n",
    "# UMAP-KMeans sobre UMAP\n",
    "plot_by_cluster_2(\n",
    "    umap[:,0], umap[:,1], K, \n",
    "    kmeans_labels_umap, \n",
    "    centers_ind=kmeans_ind_umap, \n",
    "    annotate=True, ax=axs[2]\n",
    ")\n",
    "axs[2].set_xlabel('PC1')\n",
    "axs[2].set_ylabel('PC2')\n",
    "axs[2].set_title('UMAP-KMeans sobre UMAP')\n",
    "\n",
    "fig.tight_layout()\n",
    "plt.show()"
   ]
  },
  {
   "cell_type": "markdown",
   "id": "71d5441b",
   "metadata": {},
   "source": [
    "### Plot GMM centers on UMAPs"
   ]
  },
  {
   "cell_type": "code",
   "execution_count": null,
   "id": "b93ff4f5",
   "metadata": {},
   "outputs": [],
   "source": [
    "# Plot UMAP-gmm on UMAP\n",
    "gmm_ind_umap = np.loadtxt(f'{WORKDIR}/analysis_diego.{EPOCH}/gmm{K}_umap/centers_ind.txt', dtype=int)\n",
    "\n",
    "f, ax = plt.subplots(figsize=(4,4))\n",
    "plt.scatter(umap[:,0], umap[:,1], alpha=.05, s=1,rasterized=True)\n",
    "plt.scatter(umap[gmm_ind_umap,0], umap[gmm_ind_umap,1], c=colors,edgecolor='black')\n",
    "labels = np.arange(len(kmeans_ind_umap))\n",
    "centers = umap[gmm_ind_umap]\n",
    "for i in labels:\n",
    "    ax.annotate(str(i), centers[i, 0:2] + np.array([0.1, 0.1]))\n",
    "plt.xticks([])\n",
    "plt.yticks([])\n",
    "plt.xlabel('GMM1')\n",
    "plt.ylabel('GMM2')"
   ]
  },
  {
   "cell_type": "markdown",
   "id": "28d50d9b",
   "metadata": {},
   "source": [
    "### DBSCAN clustering"
   ]
  },
  {
   "cell_type": "code",
   "execution_count": null,
   "id": "26e37805",
   "metadata": {},
   "outputs": [],
   "source": [
    "# DBSCAN en z\n",
    "\n",
    "dbscan = DBSCAN(eps=0.1, min_samples=250)  # Ajusta eps y min_samples según sea necesario\n",
    "labels_z = dbscan.fit_predict(z)\n",
    "\n",
    "# Filtrar puntos que no son ruido\n",
    "mask = labels_z != -1  # Máscara para eliminar el ruido\n",
    "filtered_z = z[mask]  # Filtramos los puntos\n",
    "filtered_labels_z = labels_z[mask]  # Filtramos las etiquetas\n",
    "\n",
    "# Obtener etiquetas únicas\n",
    "unique_labels_all_z = set(labels_z)  # Incluye ruido (-1)\n",
    "unique_labels_filtered_z = set(filtered_labels_z)  # Excluye ruido\n",
    "\n",
    "# Crear figura con dos subplots\n",
    "fig, axes = plt.subplots(1, 2, figsize=(14, 6))\n",
    "\n",
    "# Subplot 1: Con ruido\n",
    "ax = axes[0]\n",
    "for label in unique_labels_all_z:\n",
    "    cluster_points = z[labels_z == label]\n",
    "    ax.scatter(cluster_points[:, 0], cluster_points[:, 1], \n",
    "               label=f\"Cluster {label}\" if label != -1 else \"Ruido\",\n",
    "               alpha=0.8, edgecolors=\"k\")\n",
    "\n",
    "ax.set_xlabel(\"PC1\")\n",
    "ax.set_ylabel(\"PC2\")\n",
    "ax.legend()\n",
    "ax.set_title(\"DBSCAN - Clusters con ruido\")\n",
    "\n",
    "# Subplot 2: Sin ruido\n",
    "ax = axes[1]\n",
    "for label in unique_labels_filtered_z:\n",
    "    cluster_points = filtered_z[filtered_labels_z == label]\n",
    "    ax.scatter(cluster_points[:, 0], cluster_points[:, 1], \n",
    "               label=f\"Cluster {label}\", alpha=0.8, edgecolors=\"k\")\n",
    "\n",
    "ax.set_xlabel(\"PC1\")\n",
    "ax.set_ylabel(\"PC2\")\n",
    "ax.legend()\n",
    "ax.set_title(\"DBSCAN - Clusters sin ruido\")\n",
    "\n",
    "plt.tight_layout()\n",
    "plt.show()"
   ]
  },
  {
   "cell_type": "code",
   "execution_count": null,
   "id": "909117fd",
   "metadata": {},
   "outputs": [],
   "source": [
    "# DBSCAN en PCA\n",
    "\n",
    "dbscan = DBSCAN(eps=0.1, min_samples=250)  # Ajusta eps y min_samples según sea necesario\n",
    "labels_pca = dbscan.fit_predict(pc)\n",
    "\n",
    "# Filtrar puntos que no son ruido\n",
    "mask = labels_pca != -1  # Máscara para eliminar el ruido\n",
    "filtered_pca = pc[mask]  # Filtramos los puntos\n",
    "filtered_labels_pca = labels_pca[mask]  # Filtramos las etiquetas\n",
    "\n",
    "# Obtener etiquetas únicas\n",
    "unique_labels_all_pca = set(labels_pca)  # Incluye ruido (-1)\n",
    "unique_labels_filtered_pca = set(filtered_labels_pca)  # Excluye ruido\n",
    "\n",
    "# Crear figura con dos subplots\n",
    "fig, axes = plt.subplots(1, 2, figsize=(14, 6))\n",
    "\n",
    "# Subplot 1: Con ruido\n",
    "ax = axes[0]\n",
    "for label in unique_labels_all_pca:\n",
    "    cluster_points = pc[labels_pca == label]\n",
    "    ax.scatter(cluster_points[:, 0], cluster_points[:, 1], \n",
    "               label=f\"Cluster {label}\" if label != -1 else \"Ruido\",\n",
    "               alpha=0.8, edgecolors=\"k\")\n",
    "\n",
    "ax.set_xlabel(\"PC1\")\n",
    "ax.set_ylabel(\"PC2\")\n",
    "ax.legend()\n",
    "ax.set_title(\"DBSCAN - Clusters con ruido\")\n",
    "\n",
    "# Subplot 2: Sin ruido\n",
    "ax = axes[1]\n",
    "for label in unique_labels_filtered_pca:\n",
    "    cluster_points = filtered_pca[filtered_labels_pca == label]\n",
    "    ax.scatter(cluster_points[:, 0], cluster_points[:, 1], \n",
    "               label=f\"Cluster {label}\", alpha=0.8, edgecolors=\"k\")\n",
    "\n",
    "ax.set_xlabel(\"PC1\")\n",
    "ax.set_ylabel(\"PC2\")\n",
    "ax.legend()\n",
    "ax.set_title(\"DBSCAN - Clusters sin ruido\")\n",
    "\n",
    "plt.tight_layout()\n",
    "plt.show()"
   ]
  },
  {
   "cell_type": "code",
   "execution_count": null,
   "id": "644fe823",
   "metadata": {},
   "outputs": [],
   "source": [
    "# DBSCAN en UMAP\n",
    "\n",
    "dbscan = DBSCAN(eps=0.1, min_samples=50)  # Ajusta eps y min_samples según sea necesario\n",
    "labels = dbscan.fit_predict(umap)\n",
    "\n",
    "# Filtrar puntos que no son ruido\n",
    "mask = labels != -1  # Máscara para eliminar el ruido\n",
    "filtered_umap = umap[mask]  # Filtramos los puntos\n",
    "filtered_labels = labels[mask]  # Filtramos las etiquetas\n",
    "\n",
    "# Obtener etiquetas únicas\n",
    "unique_labels_all = set(labels)  # Incluye ruido (-1)\n",
    "unique_labels_filtered = set(filtered_labels)  # Excluye ruido\n",
    "\n",
    "# Crear figura con dos subplots\n",
    "fig, axes = plt.subplots(1, 2, figsize=(14, 6))\n",
    "\n",
    "# Subplot 1: Con ruido\n",
    "ax = axes[0]\n",
    "for label in unique_labels_all:\n",
    "    cluster_points = umap[labels == label]\n",
    "    ax.scatter(cluster_points[:, 0], cluster_points[:, 1], \n",
    "               label=f\"Cluster {label}\" if label != -1 else \"Ruido\",\n",
    "               alpha=0.8, edgecolors=\"k\")\n",
    "\n",
    "ax.set_xlabel(\"UMAP1\")\n",
    "ax.set_ylabel(\"UMAP2\")\n",
    "ax.legend()\n",
    "ax.set_title(\"DBSCAN - Clusters con ruido\")\n",
    "\n",
    "# Subplot 2: Sin ruido\n",
    "ax = axes[1]\n",
    "for label in unique_labels_filtered:\n",
    "    cluster_points = filtered_umap[filtered_labels == label]\n",
    "    ax.scatter(cluster_points[:, 0], cluster_points[:, 1], \n",
    "               label=f\"Cluster {label}\", alpha=0.8, edgecolors=\"k\")\n",
    "\n",
    "ax.set_xlabel(\"UMAP1\")\n",
    "ax.set_ylabel(\"UMAP2\")\n",
    "ax.legend()\n",
    "ax.set_title(\"DBSCAN - Clusters sin ruido\")\n",
    "\n",
    "plt.tight_layout()\n",
    "plt.show()"
   ]
  }
 ],
 "metadata": {
  "kernelspec": {
   "display_name": "Python 3 (ipykernel)",
   "language": "python",
   "name": "python3"
  },
  "language_info": {
   "codemirror_mode": {
    "name": "ipython",
    "version": 3
   },
   "file_extension": ".py",
   "mimetype": "text/x-python",
   "name": "python",
   "nbconvert_exporter": "python",
   "pygments_lexer": "ipython3",
   "version": "3.10.6"
  }
 },
 "nbformat": 4,
 "nbformat_minor": 5
}
